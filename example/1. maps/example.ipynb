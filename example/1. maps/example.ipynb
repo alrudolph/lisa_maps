{
 "metadata": {
  "language_info": {
   "codemirror_mode": {
    "name": "ipython",
    "version": 3
   },
   "file_extension": ".py",
   "mimetype": "text/x-python",
   "name": "python",
   "nbconvert_exporter": "python",
   "pygments_lexer": "ipython3",
   "version": 3
  },
  "orig_nbformat": 2
 },
 "nbformat": 4,
 "nbformat_minor": 2,
 "cells": [
  {
   "cell_type": "code",
   "execution_count": null,
   "metadata": {},
   "outputs": [],
   "source": [
    "import pandas as pd \n",
    "import geopandas as gpd\n",
    "\n",
    "from datetime import datetime as dt\n",
    "\n",
    "import sys\n",
    "sys.path.append(\"../../\")\n",
    "import create_plots"
   ]
  },
  {
   "cell_type": "code",
   "execution_count": null,
   "metadata": {},
   "outputs": [],
   "source": [
    "# read in data\n",
    "ca = gpd.read_file(\"../county_level_shp/county_level.shp\")\n",
    "data = pd.read_csv(\"../weighted_averages.csv\")\n",
    "\n",
    "data[\"weighted_average\"] = [float(i) for i in data[\"weighted_average\"]]\n",
    "data[\"county_fips\"] = ['0' + str(i) for i in data[\"county_fips\"]]\n",
    "data['date_range_start'] = [dt.strptime(date,\"%Y-%m-%dT%H:%M:%SZ\").date() for date in data['date_range_start']]"
   ]
  },
  {
   "cell_type": "code",
   "execution_count": 13,
   "metadata": {},
   "outputs": [
    {
     "output_type": "execute_result",
     "data": {
      "text/plain": [
       "   origin_census_block_group county_fips date_range_start  weighted_average\n",
       "0                60014075002       06001       2019-12-21       8261.455224\n",
       "1                60190057022       06019       2019-12-21       6267.438356\n",
       "2                60210101002       06021       2019-12-21      19282.191489\n",
       "3                60290060071       06029       2019-12-21      18713.533333\n",
       "4                60310016011       06031       2019-12-21      17818.441558"
      ],
      "text/html": "<div>\n<style scoped>\n    .dataframe tbody tr th:only-of-type {\n        vertical-align: middle;\n    }\n\n    .dataframe tbody tr th {\n        vertical-align: top;\n    }\n\n    .dataframe thead th {\n        text-align: right;\n    }\n</style>\n<table border=\"1\" class=\"dataframe\">\n  <thead>\n    <tr style=\"text-align: right;\">\n      <th></th>\n      <th>origin_census_block_group</th>\n      <th>county_fips</th>\n      <th>date_range_start</th>\n      <th>weighted_average</th>\n    </tr>\n  </thead>\n  <tbody>\n    <tr>\n      <th>0</th>\n      <td>60014075002</td>\n      <td>06001</td>\n      <td>2019-12-21</td>\n      <td>8261.455224</td>\n    </tr>\n    <tr>\n      <th>1</th>\n      <td>60190057022</td>\n      <td>06019</td>\n      <td>2019-12-21</td>\n      <td>6267.438356</td>\n    </tr>\n    <tr>\n      <th>2</th>\n      <td>60210101002</td>\n      <td>06021</td>\n      <td>2019-12-21</td>\n      <td>19282.191489</td>\n    </tr>\n    <tr>\n      <th>3</th>\n      <td>60290060071</td>\n      <td>06029</td>\n      <td>2019-12-21</td>\n      <td>18713.533333</td>\n    </tr>\n    <tr>\n      <th>4</th>\n      <td>60310016011</td>\n      <td>06031</td>\n      <td>2019-12-21</td>\n      <td>17818.441558</td>\n    </tr>\n  </tbody>\n</table>\n</div>"
     },
     "metadata": {},
     "execution_count": 13
    }
   ],
   "source": [
    "data.head()"
   ]
  },
  {
   "source": [
    "### Group Data\n",
    "\n",
    "I added a group function, you can use it for grouping by day but it doesn't do much, only really useful for grouping by week."
   ],
   "cell_type": "markdown",
   "metadata": {}
  },
  {
   "cell_type": "code",
   "execution_count": null,
   "metadata": {},
   "outputs": [],
   "source": [
    "grouped = create_plots.group_data(\n",
    "    data=data,\n",
    "    cols=\"weighted_average\", \n",
    "    date_col=\"date_range_start\", \n",
    "    group_col=\"county_fips\",\n",
    "    by='week'\n",
    ")"
   ]
  },
  {
   "source": [
    "The point is that grouped is a grouped dataframe that we can iterate over.\n",
    "\n",
    "# Heat Map"
   ],
   "cell_type": "markdown",
   "metadata": {}
  },
  {
   "cell_type": "code",
   "execution_count": null,
   "metadata": {},
   "outputs": [],
   "source": [
    "create_plots.create_heat_map(\n",
    "    grouped = grouped,\n",
    "    cols = \"weighted_average\",\n",
    "    date_col = [\"date_start\", \"date_end\"],\n",
    "    group_col=\"county_fips\",\n",
    "    map = ca,\n",
    "    map_group_col=\"fips\",\n",
    "    folder = \"heat_map\",\n",
    "    incl_dd = True # include hot-cold and cold-hot \n",
    ")"
   ]
  },
  {
   "source": [
    "\n",
    "\n",
    "## Stacked Heat Map\n",
    "\n",
    "### Change by Color\n",
    "\n",
    "Each iteration, the colors get darker."
   ],
   "cell_type": "markdown",
   "metadata": {}
  },
  {
   "cell_type": "code",
   "execution_count": null,
   "metadata": {},
   "outputs": [],
   "source": [
    "create_plots.create_heat_map(\n",
    "    grouped = grouped,\n",
    "    cols = \"weighted_average\",\n",
    "    date_col = [\"date_start\", \"date_end\"],\n",
    "    group_col=\"county_fips\",\n",
    "    map = ca,\n",
    "    map_group_col=\"fips\",\n",
    "    folder = \"stacked_heat_map\",\n",
    "    color_change=\"color\", # change by color\n",
    "    stack=True, # stack plots\n",
    "    incl_dd = True\n",
    ")"
   ]
  },
  {
   "source": [
    "### Change by Opacity\n",
    "\n",
    "Each iteration, the color stays the same, but the opacity gets darker"
   ],
   "cell_type": "markdown",
   "metadata": {}
  },
  {
   "cell_type": "code",
   "execution_count": null,
   "metadata": {},
   "outputs": [],
   "source": [
    "create_plots.create_heat_map(\n",
    "    grouped = grouped,\n",
    "    cols = \"weighted_average\",\n",
    "    date_col = [\"date_start\", \"date_end\"],\n",
    "    group_col=\"county_fips\",\n",
    "    map = ca,\n",
    "    map_group_col=\"fips\",\n",
    "    folder = \"stacked_heat_map2\",\n",
    "    color_change=\"opacity\", # change by color\n",
    "    stack=True,\n",
    "    incl_dd = True\n",
    ")"
   ]
  },
  {
   "source": [
    "# Quantile Map"
   ],
   "cell_type": "markdown",
   "metadata": {}
  },
  {
   "cell_type": "code",
   "execution_count": null,
   "metadata": {},
   "outputs": [],
   "source": [
    "create_plots.create_quantile_map(\n",
    "    grouped = grouped,\n",
    "    cols = \"weighted_average\",\n",
    "    date_col = [\"date_start\", \"date_end\"],\n",
    "    group_col = \"county_fips\",\n",
    "    map = ca,\n",
    "    map_group_col=\"fips\",\n",
    "    folder=\"quantile\"\n",
    ")"
   ]
  }
 ]
}