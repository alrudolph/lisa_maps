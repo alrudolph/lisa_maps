{
 "metadata": {
  "language_info": {
   "codemirror_mode": {
    "name": "ipython",
    "version": 3
   },
   "file_extension": ".py",
   "mimetype": "text/x-python",
   "name": "python",
   "nbconvert_exporter": "python",
   "pygments_lexer": "ipython3",
   "version": 3
  },
  "orig_nbformat": 2
 },
 "nbformat": 4,
 "nbformat_minor": 2,
 "cells": [
  {
   "cell_type": "code",
   "execution_count": 2,
   "metadata": {},
   "outputs": [],
   "source": [
    "import pandas as pd \n",
    "import geopandas as gpd\n",
    "\n",
    "from datetime import datetime as dt\n",
    "\n",
    "import sys\n",
    "sys.path.append(\"../../\")\n",
    "import create_plots"
   ]
  },
  {
   "cell_type": "code",
   "execution_count": 3,
   "metadata": {},
   "outputs": [],
   "source": [
    "# read in data\n",
    "ca = gpd.read_file(\"../county_level_shp/county_level.shp\")\n",
    "data = pd.read_csv(\"../weighted_averages.csv\")\n",
    "\n",
    "data['date_range_start'] = [dt.strptime(date,\"%Y-%m-%dT%H:%M:%SZ\").date() for date in data['date_range_start']]"
   ]
  },
  {
   "cell_type": "code",
   "execution_count": 3,
   "metadata": {},
   "outputs": [
    {
     "output_type": "execute_result",
     "data": {
      "text/plain": [
       "   origin_census_block_group county_fips date_range_start  weighted_average\n",
       "0                60014075002       06001       2019-12-21       8261.455224\n",
       "1                60190057022       06019       2019-12-21       6267.438356\n",
       "2                60210101002       06021       2019-12-21      19282.191489\n",
       "3                60290060071       06029       2019-12-21      18713.533333\n",
       "4                60310016011       06031       2019-12-21      17818.441558"
      ],
      "text/html": "<div>\n<style scoped>\n    .dataframe tbody tr th:only-of-type {\n        vertical-align: middle;\n    }\n\n    .dataframe tbody tr th {\n        vertical-align: top;\n    }\n\n    .dataframe thead th {\n        text-align: right;\n    }\n</style>\n<table border=\"1\" class=\"dataframe\">\n  <thead>\n    <tr style=\"text-align: right;\">\n      <th></th>\n      <th>origin_census_block_group</th>\n      <th>county_fips</th>\n      <th>date_range_start</th>\n      <th>weighted_average</th>\n    </tr>\n  </thead>\n  <tbody>\n    <tr>\n      <th>0</th>\n      <td>60014075002</td>\n      <td>06001</td>\n      <td>2019-12-21</td>\n      <td>8261.455224</td>\n    </tr>\n    <tr>\n      <th>1</th>\n      <td>60190057022</td>\n      <td>06019</td>\n      <td>2019-12-21</td>\n      <td>6267.438356</td>\n    </tr>\n    <tr>\n      <th>2</th>\n      <td>60210101002</td>\n      <td>06021</td>\n      <td>2019-12-21</td>\n      <td>19282.191489</td>\n    </tr>\n    <tr>\n      <th>3</th>\n      <td>60290060071</td>\n      <td>06029</td>\n      <td>2019-12-21</td>\n      <td>18713.533333</td>\n    </tr>\n    <tr>\n      <th>4</th>\n      <td>60310016011</td>\n      <td>06031</td>\n      <td>2019-12-21</td>\n      <td>17818.441558</td>\n    </tr>\n  </tbody>\n</table>\n</div>"
     },
     "metadata": {},
     "execution_count": 3
    }
   ],
   "source": [
    "data.head()"
   ]
  },
  {
   "source": [
    "### Group Data\n",
    "\n",
    "I added a group function, you can use it for grouping by day but it doesn't do much, only really useful for grouping by week."
   ],
   "cell_type": "markdown",
   "metadata": {}
  },
  {
   "cell_type": "code",
   "execution_count": 4,
   "metadata": {},
   "outputs": [],
   "source": [
    "grouped = create_plots.group_data(\n",
    "    data=data,\n",
    "    cols=\"weighted_average\", \n",
    "    date_col=\"date_range_start\", \n",
    "    group_col=\"county_fips\",\n",
    "    by='week'\n",
    ")"
   ]
  },
  {
   "source": [
    "The point is that grouped is a grouped dataframe that we can iterate over.\n",
    "\n",
    "# Heat Map\n",
    "\n",
    "### Export Function\n",
    "\n",
    "I broke down the map making process into two parts:\n",
    "\n",
    "1. Calculate and export the needed data for plotting.\n",
    "2. Pass in that data into one of the plotting functions.\n",
    "\n",
    "I did this is if you want to do multiple plots with the same data you don't need to recompute the values, you can also easily export the data to a file."
   ],
   "cell_type": "markdown",
   "metadata": {}
  },
  {
   "cell_type": "code",
   "execution_count": 5,
   "metadata": {},
   "outputs": [
    {
     "output_type": "stream",
     "name": "stderr",
     "text": [
      "100%|██████████| 48/48 [00:50<00:00,  1.06s/it]\n"
     ]
    }
   ],
   "source": [
    "heat_export, col_order = create_plots.export_heat_vals(\n",
    "    grouped = grouped,\n",
    "    cols = \"weighted_average\", # list of column names to compute\n",
    "    date_col = \"date_range_start\", # We use the dates to for plot title\n",
    "    group_col = \"county_fips\", # column name of data to join on\n",
    "    map = ca,\n",
    "    map_group_col = \"fips\" # column name of map to join on\n",
    ")"
   ]
  },
  {
   "source": [
    "The first column is a list of quadrants for each fip code for the stated time period. The last column is the global Moran's I estimate and p-value."
   ],
   "cell_type": "markdown",
   "metadata": {}
  },
  {
   "cell_type": "code",
   "execution_count": 6,
   "metadata": {},
   "outputs": [
    {
     "output_type": "execute_result",
     "data": {
      "text/plain": [
       "                                    weighted_average  \\\n",
       "0  [0, 0, 0, 0, 0, 3, 0, 3, 0, 0, 0, 0, 0, 0, 0, ...   \n",
       "1  [0, 0, 0, 0, 0, 3, 0, 3, 3, 0, 0, 0, 0, 0, 0, ...   \n",
       "2  [0, 0, 0, 0, 3, 3, 0, 3, 3, 0, 0, 0, 0, 0, 0, ...   \n",
       "3  [0, 0, 0, 0, 3, 3, 0, 3, 0, 0, 0, 0, 0, 0, 0, ...   \n",
       "4  [0, 0, 0, 1, 3, 3, 0, 3, 0, 0, 0, 0, 0, 0, 0, ...   \n",
       "\n",
       "                       date                            weighted_average_g  \n",
       "0  [2019-12-21, 2019-12-22]   (0.13468559156922646, 0.031499877738438875)  \n",
       "1  [2019-12-23, 2019-12-29]  (0.20524491736058084, 0.0032548170939247223)  \n",
       "2  [2019-12-30, 2020-01-05]   (0.22906529411641913, 0.001298253955306805)  \n",
       "3  [2020-01-06, 2020-01-12]  (0.29756183290336663, 5.944184606965219e-05)  \n",
       "4  [2020-01-13, 2020-01-19]  (0.2818071016210822, 0.00012808935137975652)  "
      ],
      "text/html": "<div>\n<style scoped>\n    .dataframe tbody tr th:only-of-type {\n        vertical-align: middle;\n    }\n\n    .dataframe tbody tr th {\n        vertical-align: top;\n    }\n\n    .dataframe thead th {\n        text-align: right;\n    }\n</style>\n<table border=\"1\" class=\"dataframe\">\n  <thead>\n    <tr style=\"text-align: right;\">\n      <th></th>\n      <th>weighted_average</th>\n      <th>date</th>\n      <th>weighted_average_g</th>\n    </tr>\n  </thead>\n  <tbody>\n    <tr>\n      <th>0</th>\n      <td>[0, 0, 0, 0, 0, 3, 0, 3, 0, 0, 0, 0, 0, 0, 0, ...</td>\n      <td>[2019-12-21, 2019-12-22]</td>\n      <td>(0.13468559156922646, 0.031499877738438875)</td>\n    </tr>\n    <tr>\n      <th>1</th>\n      <td>[0, 0, 0, 0, 0, 3, 0, 3, 3, 0, 0, 0, 0, 0, 0, ...</td>\n      <td>[2019-12-23, 2019-12-29]</td>\n      <td>(0.20524491736058084, 0.0032548170939247223)</td>\n    </tr>\n    <tr>\n      <th>2</th>\n      <td>[0, 0, 0, 0, 3, 3, 0, 3, 3, 0, 0, 0, 0, 0, 0, ...</td>\n      <td>[2019-12-30, 2020-01-05]</td>\n      <td>(0.22906529411641913, 0.001298253955306805)</td>\n    </tr>\n    <tr>\n      <th>3</th>\n      <td>[0, 0, 0, 0, 3, 3, 0, 3, 0, 0, 0, 0, 0, 0, 0, ...</td>\n      <td>[2020-01-06, 2020-01-12]</td>\n      <td>(0.29756183290336663, 5.944184606965219e-05)</td>\n    </tr>\n    <tr>\n      <th>4</th>\n      <td>[0, 0, 0, 1, 3, 3, 0, 3, 0, 0, 0, 0, 0, 0, 0, ...</td>\n      <td>[2020-01-13, 2020-01-19]</td>\n      <td>(0.2818071016210822, 0.00012808935137975652)</td>\n    </tr>\n  </tbody>\n</table>\n</div>"
     },
     "metadata": {},
     "execution_count": 6
    }
   ],
   "source": [
    "heat_export.head()"
   ]
  },
  {
   "source": [
    "## Stacked Heat Map\n",
    "\n",
    "### Change by Color\n",
    "\n",
    "Each iteration, the colors get darker."
   ],
   "cell_type": "markdown",
   "metadata": {}
  },
  {
   "cell_type": "code",
   "execution_count": null,
   "metadata": {},
   "outputs": [],
   "source": [
    "create_plots.create_heat_map_from_export(\n",
    "    export = heat_export, \n",
    "    cols = \"weighted_average\",\n",
    "    date_col = \"date\", # this changed to date\n",
    "    map = ca,\n",
    "    folder = \"stacked_heat_map\", # output folder\n",
    "    color_change=\"color\",\n",
    "    stack=True\n",
    ")"
   ]
  },
  {
   "source": [
    "### Change by Opacity\n",
    "\n",
    "Each iteration, the color stays the same, but the opacity gets darker"
   ],
   "cell_type": "markdown",
   "metadata": {}
  },
  {
   "cell_type": "code",
   "execution_count": null,
   "metadata": {},
   "outputs": [],
   "source": [
    "create_plots.create_heat_map_from_export(\n",
    "    export = heat_export, \n",
    "    cols = \"weighted_average\",\n",
    "    date_col = \"date\",\n",
    "    map = ca,\n",
    "    folder = \"stacked_heat_map2\",\n",
    "    color_change=\"opacity\", # notice the change\n",
    "    stack=True,\n",
    "    incl_dd = True\n",
    ")"
   ]
  },
  {
   "source": [
    "We can do this on all plots, but notice that on the last one, we set `incl_dd` to `True` to include the hot-cold and cold-hot areas as well."
   ],
   "cell_type": "markdown",
   "metadata": {}
  },
  {
   "source": [
    "## Not Stacked Heat Map"
   ],
   "cell_type": "markdown",
   "metadata": {}
  },
  {
   "cell_type": "code",
   "execution_count": null,
   "metadata": {},
   "outputs": [],
   "source": [
    "create_plots.create_heat_map_from_export(\n",
    "    export = heat_export, \n",
    "    cols = \"weighted_average\",\n",
    "    date_col = \"date\",\n",
    "    map = ca,\n",
    "    folder = \"heat_map\",\n",
    "    stack=False,\n",
    "    incl_dd = True\n",
    ")"
   ]
  },
  {
   "source": [
    "# Quantile Map\n",
    "\n",
    "### Export"
   ],
   "cell_type": "markdown",
   "metadata": {}
  },
  {
   "cell_type": "code",
   "execution_count": 7,
   "metadata": {},
   "outputs": [
    {
     "output_type": "stream",
     "name": "stderr",
     "text": [
      "100%|██████████| 48/48 [00:00<00:00, 182.09it/s]\n"
     ]
    }
   ],
   "source": [
    "quantile_export, col_order = create_plots.export_quantile_vals(\n",
    "    grouped = grouped,\n",
    "    cols = \"weighted_average\",\n",
    "    date_col = \"date_range_start\",\n",
    "    group_col = \"county_fips\",\n",
    "    map = ca,\n",
    "    map_group_col=\"fips\"\n",
    ")"
   ]
  },
  {
   "source": [
    "This returns a dataframe of the quantile, the date range, and the upper bound of the bin."
   ],
   "cell_type": "markdown",
   "metadata": {}
  },
  {
   "cell_type": "code",
   "execution_count": 8,
   "metadata": {},
   "outputs": [
    {
     "output_type": "execute_result",
     "data": {
      "text/plain": [
       "                                    weighted_average  \\\n",
       "0  [2, 1, 6, 8, 1, 0, 2, 2, 2, 3, 5, 5, 8, 8, 7, ...   \n",
       "1  [8, 1, 6, 7, 2, 1, 3, 1, 3, 4, 8, 7, 9, 8, 5, ...   \n",
       "2  [9, 1, 5, 8, 1, 0, 2, 2, 2, 5, 2, 7, 9, 8, 6, ...   \n",
       "3  [9, 1, 1, 9, 2, 0, 2, 3, 2, 5, 0, 4, 9, 9, 6, ...   \n",
       "4  [8, 2, 1, 9, 2, 0, 3, 1, 2, 6, 0, 6, 9, 8, 5, ...   \n",
       "\n",
       "                       date                               weighted_average_bin  \n",
       "0  [2019-12-21, 2019-12-22]  [10014.667548587548, 10668.506300414958, 11231...  \n",
       "1  [2019-12-23, 2019-12-29]  [10955.019153078892, 11544.123853821304, 12268...  \n",
       "2  [2019-12-30, 2020-01-05]  [10924.745072884538, 11712.356882070419, 12179...  \n",
       "3  [2020-01-06, 2020-01-12]  [10278.686108395563, 10856.43617489041, 11147....  \n",
       "4  [2020-01-13, 2020-01-19]  [10726.237431739717, 11123.429976775093, 11637...  "
      ],
      "text/html": "<div>\n<style scoped>\n    .dataframe tbody tr th:only-of-type {\n        vertical-align: middle;\n    }\n\n    .dataframe tbody tr th {\n        vertical-align: top;\n    }\n\n    .dataframe thead th {\n        text-align: right;\n    }\n</style>\n<table border=\"1\" class=\"dataframe\">\n  <thead>\n    <tr style=\"text-align: right;\">\n      <th></th>\n      <th>weighted_average</th>\n      <th>date</th>\n      <th>weighted_average_bin</th>\n    </tr>\n  </thead>\n  <tbody>\n    <tr>\n      <th>0</th>\n      <td>[2, 1, 6, 8, 1, 0, 2, 2, 2, 3, 5, 5, 8, 8, 7, ...</td>\n      <td>[2019-12-21, 2019-12-22]</td>\n      <td>[10014.667548587548, 10668.506300414958, 11231...</td>\n    </tr>\n    <tr>\n      <th>1</th>\n      <td>[8, 1, 6, 7, 2, 1, 3, 1, 3, 4, 8, 7, 9, 8, 5, ...</td>\n      <td>[2019-12-23, 2019-12-29]</td>\n      <td>[10955.019153078892, 11544.123853821304, 12268...</td>\n    </tr>\n    <tr>\n      <th>2</th>\n      <td>[9, 1, 5, 8, 1, 0, 2, 2, 2, 5, 2, 7, 9, 8, 6, ...</td>\n      <td>[2019-12-30, 2020-01-05]</td>\n      <td>[10924.745072884538, 11712.356882070419, 12179...</td>\n    </tr>\n    <tr>\n      <th>3</th>\n      <td>[9, 1, 1, 9, 2, 0, 2, 3, 2, 5, 0, 4, 9, 9, 6, ...</td>\n      <td>[2020-01-06, 2020-01-12]</td>\n      <td>[10278.686108395563, 10856.43617489041, 11147....</td>\n    </tr>\n    <tr>\n      <th>4</th>\n      <td>[8, 2, 1, 9, 2, 0, 3, 1, 2, 6, 0, 6, 9, 8, 5, ...</td>\n      <td>[2020-01-13, 2020-01-19]</td>\n      <td>[10726.237431739717, 11123.429976775093, 11637...</td>\n    </tr>\n  </tbody>\n</table>\n</div>"
     },
     "metadata": {},
     "execution_count": 8
    }
   ],
   "source": [
    "quantile_export.head()"
   ]
  },
  {
   "cell_type": "code",
   "execution_count": null,
   "metadata": {},
   "outputs": [],
   "source": [
    "create_plots.create_quantile_map_from_export(\n",
    "    export=quantile_export,\n",
    "    cols=\"weighted_average\",\n",
    "    date_col=\"date\",\n",
    "    map=ca,\n",
    "    folder=\"quantile\"\n",
    ")"
   ]
  },
  {
   "source": [
    "For all of these plots, I've also added a `limit` argument if you only want to output a few plots."
   ],
   "cell_type": "markdown",
   "metadata": {}
  }
 ]
}